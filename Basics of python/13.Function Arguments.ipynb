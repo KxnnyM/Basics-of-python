{
 "cells": [
  {
   "cell_type": "markdown",
   "id": "11984ec0",
   "metadata": {},
   "source": [
    "### REQUIRED ARGUMENTS"
   ]
  },
  {
   "cell_type": "code",
   "execution_count": 1,
   "id": "f22637ae",
   "metadata": {},
   "outputs": [
    {
     "name": "stdout",
     "output_type": "stream",
     "text": [
      "Enter first number: 2\n",
      "Enter second number: 4\n"
     ]
    }
   ],
   "source": [
    "def req(num1,num2):\n",
    "    print(\"Enter first number:\",num1)\n",
    "    print(\"Enter second number:\",num2)\n",
    "\n",
    "num1 = 2\n",
    "num2 = 4\n",
    "req(num1,num2)"
   ]
  },
  {
   "cell_type": "code",
   "execution_count": 2,
   "id": "21cbf077",
   "metadata": {},
   "outputs": [
    {
     "name": "stdout",
     "output_type": "stream",
     "text": [
      "What is your name?:Ken\n"
     ]
    },
    {
     "ename": "TypeError",
     "evalue": "greet() takes 0 positional arguments but 1 was given",
     "output_type": "error",
     "traceback": [
      "\u001b[1;31m---------------------------------------------------------------------------\u001b[0m",
      "\u001b[1;31mTypeError\u001b[0m                                 Traceback (most recent call last)",
      "\u001b[1;32m<ipython-input-2-a385c28a0023>\u001b[0m in \u001b[0;36m<module>\u001b[1;34m\u001b[0m\n\u001b[0;32m      3\u001b[0m \u001b[1;33m\u001b[0m\u001b[0m\n\u001b[0;32m      4\u001b[0m \u001b[0mperson\u001b[0m \u001b[1;33m=\u001b[0m \u001b[0minput\u001b[0m\u001b[1;33m(\u001b[0m\u001b[1;34m\"What is your name?:\"\u001b[0m\u001b[1;33m)\u001b[0m\u001b[1;33m\u001b[0m\u001b[1;33m\u001b[0m\u001b[0m\n\u001b[1;32m----> 5\u001b[1;33m \u001b[0mgreet\u001b[0m\u001b[1;33m(\u001b[0m\u001b[0mperson\u001b[0m\u001b[1;33m)\u001b[0m\u001b[1;33m\u001b[0m\u001b[1;33m\u001b[0m\u001b[0m\n\u001b[0m",
      "\u001b[1;31mTypeError\u001b[0m: greet() takes 0 positional arguments but 1 was given"
     ]
    }
   ],
   "source": [
    "def greet():\n",
    "    print(\"Hello and welcome\")\n",
    "\n",
    "person = input(\"What is your name?:\")\n",
    "greet(person)"
   ]
  },
  {
   "cell_type": "code",
   "execution_count": 3,
   "id": "6c1b5c57",
   "metadata": {},
   "outputs": [
    {
     "name": "stdout",
     "output_type": "stream",
     "text": [
      "Hello Kenny\n"
     ]
    }
   ],
   "source": [
    "def hello(name):\n",
    "    print(\"Hello\",name)\n",
    "\n",
    "hello(\"Kenny\")"
   ]
  },
  {
   "cell_type": "markdown",
   "id": "a088ff22",
   "metadata": {},
   "source": [
    "### KEYWORD ARGUMENTS"
   ]
  },
  {
   "cell_type": "code",
   "execution_count": 4,
   "id": "d9e4a6c8",
   "metadata": {},
   "outputs": [
    {
     "name": "stdout",
     "output_type": "stream",
     "text": [
      "Kenny CEO\n",
      "Kenny CEO\n"
     ]
    }
   ],
   "source": [
    "def emp(name,designation):\n",
    "    print(name,designation)\n",
    "\n",
    "emp(name = \"Kenny\", designation = \"CEO\")\n",
    "emp(designation = \"CEO\",name=\"Kenny\")"
   ]
  },
  {
   "cell_type": "markdown",
   "id": "f11e717e",
   "metadata": {},
   "source": [
    "### DEFAULT ARGUMENTS"
   ]
  },
  {
   "cell_type": "code",
   "execution_count": 5,
   "id": "28469b92",
   "metadata": {},
   "outputs": [
    {
     "name": "stdout",
     "output_type": "stream",
     "text": [
      "Name: Kenny\n",
      "Salary: 120000\n"
     ]
    }
   ],
   "source": [
    "def emp(name,sal=120000):\n",
    "    print(\"Name:\",name)\n",
    "    print(\"Salary:\",sal)\n",
    "    \n",
    "emp(\"Kenny\")"
   ]
  },
  {
   "cell_type": "markdown",
   "id": "7c998069",
   "metadata": {},
   "source": [
    "### VARIABLE-LENGTH  ARGUMENTS"
   ]
  },
  {
   "cell_type": "code",
   "execution_count": 6,
   "id": "407b6537",
   "metadata": {},
   "outputs": [
    {
     "name": "stdout",
     "output_type": "stream",
     "text": [
      "5\n",
      "27\n"
     ]
    }
   ],
   "source": [
    "def add(*num):\n",
    "    add=0\n",
    "    for i in num:\n",
    "        add=add+i\n",
    "    print(add)\n",
    "\n",
    "add(2,3)\n",
    "add(2,3,4,5,6,7)"
   ]
  },
  {
   "cell_type": "code",
   "execution_count": 7,
   "id": "32d7385f",
   "metadata": {},
   "outputs": [
    {
     "name": "stdout",
     "output_type": "stream",
     "text": [
      "<class 'dict'>\n",
      "Name --> Jack\n",
      "Salary --> 10000\n"
     ]
    }
   ],
   "source": [
    "def  emp(**details):\n",
    "    print(type(details))\n",
    "    for k,v in details.items():\n",
    "        print(k,\"-->\",v)\n",
    "        \n",
    "emp(Name = \"Jack\", Salary = 10000)"
   ]
  },
  {
   "cell_type": "code",
   "execution_count": 8,
   "id": "262bb266",
   "metadata": {},
   "outputs": [
    {
     "name": "stdout",
     "output_type": "stream",
     "text": [
      "<class 'dict'>\n",
      "Name --> Jack\n",
      "Salary --> 10000\n",
      "Designation --> Data analyst\n",
      "age --> 27\n"
     ]
    }
   ],
   "source": [
    "emp(Name = \"Jack\",Salary = 10000,Designation = \"Data analyst\",age=27)"
   ]
  }
 ],
 "metadata": {
  "kernelspec": {
   "display_name": "Python 3",
   "language": "python",
   "name": "python3"
  },
  "language_info": {
   "codemirror_mode": {
    "name": "ipython",
    "version": 3
   },
   "file_extension": ".py",
   "mimetype": "text/x-python",
   "name": "python",
   "nbconvert_exporter": "python",
   "pygments_lexer": "ipython3",
   "version": "3.8.8"
  }
 },
 "nbformat": 4,
 "nbformat_minor": 5
}
