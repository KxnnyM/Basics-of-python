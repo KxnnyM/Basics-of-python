{
 "cells": [
  {
   "cell_type": "markdown",
   "id": "ca0dfc04",
   "metadata": {},
   "source": [
    "### CREATING A LIST "
   ]
  },
  {
   "cell_type": "code",
   "execution_count": 1,
   "id": "4c3b7335",
   "metadata": {},
   "outputs": [
    {
     "name": "stdout",
     "output_type": "stream",
     "text": [
      "[1, 4, 9, 16, 25, 36, 49, 64, 81, 100]\n"
     ]
    }
   ],
   "source": [
    "#USING A LOOP\n",
    "series_num=[]\n",
    "for i in range(1,11):\n",
    "    series_num.append(i*i)\n",
    "print(series_num)"
   ]
  },
  {
   "cell_type": "markdown",
   "id": "54c55be5",
   "metadata": {},
   "source": [
    "### CREATING A LIST "
   ]
  },
  {
   "cell_type": "code",
   "execution_count": 2,
   "id": "a8814176",
   "metadata": {},
   "outputs": [
    {
     "name": "stdout",
     "output_type": "stream",
     "text": [
      "[1, 4, 9, 16, 25, 36, 49, 64, 81, 100]\n"
     ]
    }
   ],
   "source": [
    "#USING LIST COMPREHENSION\n",
    "sq_num_series=[i*i for i in range(1,11)]\n",
    "print(sq_num_series)"
   ]
  },
  {
   "cell_type": "markdown",
   "id": "2a3b7747",
   "metadata": {},
   "source": [
    "### ELEMENT * 2"
   ]
  },
  {
   "cell_type": "code",
   "execution_count": 3,
   "id": "23b607e8",
   "metadata": {},
   "outputs": [
    {
     "name": "stdout",
     "output_type": "stream",
     "text": [
      "14\n",
      "18\n",
      "24\n",
      "4\n",
      "4.6\n",
      "1.8\n"
     ]
    }
   ],
   "source": [
    "#USING LOOPING\n",
    "items = [7,9,12,2,2.3,0.9]\n",
    "for i in items:\n",
    "    print(i*2)"
   ]
  },
  {
   "cell_type": "code",
   "execution_count": 4,
   "id": "cebb3aa7",
   "metadata": {},
   "outputs": [
    {
     "name": "stdout",
     "output_type": "stream",
     "text": [
      "[14, 18, 24, 4, 4.6, 1.8]\n"
     ]
    }
   ],
   "source": [
    "#USING LIST COMPRHENSION\n",
    "items = [7,9,12,2,2.3,0.9]\n",
    "result = [i*2 for i in items]\n",
    "print(result)"
   ]
  },
  {
   "cell_type": "markdown",
   "id": "ae473ab9",
   "metadata": {},
   "source": [
    "### FIRST LETTERS OF THE WORD IN A LIST"
   ]
  },
  {
   "cell_type": "code",
   "execution_count": 5,
   "id": "a9a8926c",
   "metadata": {},
   "outputs": [
    {
     "data": {
      "text/plain": [
       "['B', 'J', 'F', 'C', 'B']"
      ]
     },
     "execution_count": 5,
     "metadata": {},
     "output_type": "execute_result"
    }
   ],
   "source": [
    "products = [\"Bread\",\"Jam\",\"Fish\",\"Cookie\",\"Butter\"]\n",
    "f = [l[0] for l in products]\n",
    "f"
   ]
  }
 ],
 "metadata": {
  "kernelspec": {
   "display_name": "Python 3",
   "language": "python",
   "name": "python3"
  },
  "language_info": {
   "codemirror_mode": {
    "name": "ipython",
    "version": 3
   },
   "file_extension": ".py",
   "mimetype": "text/x-python",
   "name": "python",
   "nbconvert_exporter": "python",
   "pygments_lexer": "ipython3",
   "version": "3.8.8"
  }
 },
 "nbformat": 4,
 "nbformat_minor": 5
}
