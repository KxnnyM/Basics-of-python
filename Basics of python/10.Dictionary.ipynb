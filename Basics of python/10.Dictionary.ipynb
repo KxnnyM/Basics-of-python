{
 "cells": [
  {
   "cell_type": "code",
   "execution_count": 1,
   "id": "1dd63900",
   "metadata": {},
   "outputs": [
    {
     "name": "stdout",
     "output_type": "stream",
     "text": [
      "{'Harry Potter': 7, 'Percy Jackson': 5, 'The Kane Chronicles': 3}\n"
     ]
    }
   ],
   "source": [
    "#creae dict\n",
    "books= {\"Harry Potter\": 7,\"Percy Jackson\":5,\"The Kane Chronicles\":3}\n",
    "#print dict\n",
    "print(books)"
   ]
  },
  {
   "cell_type": "code",
   "execution_count": 2,
   "id": "1bd6dae1",
   "metadata": {},
   "outputs": [
    {
     "name": "stdout",
     "output_type": "stream",
     "text": [
      "{'Harry Potter': 7, 'Percy Jackson': 5, 'The Kane Chronicles': 3, 'Famous Five': 21}\n"
     ]
    }
   ],
   "source": [
    "books[\"Famous Five\"] = 21\n",
    "print(books)"
   ]
  },
  {
   "cell_type": "code",
   "execution_count": 3,
   "id": "0b098060",
   "metadata": {},
   "outputs": [
    {
     "name": "stdout",
     "output_type": "stream",
     "text": [
      "{'Harry Potter': 7, 'Percy Jackson': 5, 'The Kane Chronicles': 3}\n"
     ]
    }
   ],
   "source": [
    "del books[\"Famous Five\"]\n",
    "print(books)"
   ]
  },
  {
   "cell_type": "code",
   "execution_count": 4,
   "id": "b30fb67d",
   "metadata": {},
   "outputs": [
    {
     "name": "stdout",
     "output_type": "stream",
     "text": [
      "{'can': 6, 'you': 1, 'a': 3, 'as': 1, 'canner': 1}\n"
     ]
    }
   ],
   "source": [
    "twister = \"can you can a can as a canner can can a can\"\n",
    "word_count={}\n",
    "for word in twister.split():\n",
    "    if word not in word_count:\n",
    "        word_count[word]=1\n",
    "    else:\n",
    "        word_count[word]+=1\n",
    "print(word_count)"
   ]
  },
  {
   "cell_type": "code",
   "execution_count": 5,
   "id": "aaf75caf",
   "metadata": {},
   "outputs": [
    {
     "name": "stdout",
     "output_type": "stream",
     "text": [
      "defaultdict(<class 'int'>, {'can': 6, 'you': 1, 'a': 3, 'as': 1, 'canner': 1})\n"
     ]
    }
   ],
   "source": [
    "from collections import defaultdict\n",
    "twister = \"can you can a can as a canner can can a can\"\n",
    "word_count = defaultdict(int)\n",
    "for word in  twister.split():\n",
    "    word_count[word]+=1\n",
    "print(word_count)"
   ]
  },
  {
   "cell_type": "code",
   "execution_count": 6,
   "id": "e5fa6d0e",
   "metadata": {},
   "outputs": [
    {
     "name": "stdout",
     "output_type": "stream",
     "text": [
      "can 6\n",
      "you 1\n",
      "a 3\n",
      "as 1\n",
      "canner 1\n"
     ]
    }
   ],
   "source": [
    "from collections import defaultdict\n",
    "twister = \"can you can a can as a canner can can a can\"\n",
    "word_count = defaultdict(int)\n",
    "for word in  twister.split():\n",
    "    word_count[word]+=1\n",
    "for key,value in word_count.items():\n",
    "    print(key,value)"
   ]
  },
  {
   "cell_type": "code",
   "execution_count": 7,
   "id": "df290ab2",
   "metadata": {},
   "outputs": [
    {
     "data": {
      "text/plain": [
       "3"
      ]
     },
     "execution_count": 7,
     "metadata": {},
     "output_type": "execute_result"
    }
   ],
   "source": [
    "len(books)"
   ]
  },
  {
   "cell_type": "code",
   "execution_count": 8,
   "id": "d5138ac7",
   "metadata": {},
   "outputs": [
    {
     "data": {
      "text/plain": [
       "\"{'Harry Potter': 7, 'Percy Jackson': 5, 'The Kane Chronicles': 3}\""
      ]
     },
     "execution_count": 8,
     "metadata": {},
     "output_type": "execute_result"
    }
   ],
   "source": [
    "str(books)"
   ]
  },
  {
   "cell_type": "code",
   "execution_count": 9,
   "id": "37f0369c",
   "metadata": {},
   "outputs": [
    {
     "data": {
      "text/plain": [
       "type"
      ]
     },
     "execution_count": 9,
     "metadata": {},
     "output_type": "execute_result"
    }
   ],
   "source": [
    "type(dict)"
   ]
  },
  {
   "cell_type": "code",
   "execution_count": 10,
   "id": "c7e71f93",
   "metadata": {},
   "outputs": [
    {
     "data": {
      "text/plain": [
       "dict_keys(['Harry Potter', 'Percy Jackson', 'The Kane Chronicles'])"
      ]
     },
     "execution_count": 10,
     "metadata": {},
     "output_type": "execute_result"
    }
   ],
   "source": [
    "books.keys()"
   ]
  },
  {
   "cell_type": "code",
   "execution_count": 11,
   "id": "c28438d5",
   "metadata": {},
   "outputs": [
    {
     "data": {
      "text/plain": [
       "dict_values([7, 5, 3])"
      ]
     },
     "execution_count": 11,
     "metadata": {},
     "output_type": "execute_result"
    }
   ],
   "source": [
    "books.values()"
   ]
  },
  {
   "cell_type": "code",
   "execution_count": 12,
   "id": "10508110",
   "metadata": {},
   "outputs": [
    {
     "data": {
      "text/plain": [
       "dict_items([('Harry Potter', 7), ('Percy Jackson', 5), ('The Kane Chronicles', 3)])"
      ]
     },
     "execution_count": 12,
     "metadata": {},
     "output_type": "execute_result"
    }
   ],
   "source": [
    "books.items()"
   ]
  },
  {
   "cell_type": "code",
   "execution_count": 13,
   "id": "c2bdaeff",
   "metadata": {},
   "outputs": [
    {
     "data": {
      "text/plain": [
       "7"
      ]
     },
     "execution_count": 13,
     "metadata": {},
     "output_type": "execute_result"
    }
   ],
   "source": [
    "books.get(\"Harry Potter\")"
   ]
  },
  {
   "cell_type": "code",
   "execution_count": 14,
   "id": "cefc39bb",
   "metadata": {},
   "outputs": [
    {
     "name": "stdout",
     "output_type": "stream",
     "text": [
      "{}\n"
     ]
    }
   ],
   "source": [
    "books.clear()\n",
    "print(books)"
   ]
  },
  {
   "cell_type": "code",
   "execution_count": 15,
   "id": "020bc5dc",
   "metadata": {},
   "outputs": [
    {
     "name": "stdout",
     "output_type": "stream",
     "text": [
      "{'glass': 7, 'hanger': 4, 'soap': 3}\n"
     ]
    }
   ],
   "source": [
    "items ={\"glass\":7,\"hanger\":4,\"soap\":3}\n",
    "print(items)"
   ]
  },
  {
   "cell_type": "code",
   "execution_count": 16,
   "id": "5a782442",
   "metadata": {},
   "outputs": [
    {
     "name": "stdout",
     "output_type": "stream",
     "text": [
      "{'glass': 10, 'hanger': 4, 'soap': 3}\n"
     ]
    }
   ],
   "source": [
    "items[\"glass\"]=10\n",
    "print(items)"
   ]
  },
  {
   "cell_type": "code",
   "execution_count": 17,
   "id": "f6bd8ebd",
   "metadata": {},
   "outputs": [
    {
     "name": "stdout",
     "output_type": "stream",
     "text": [
      "{'glass': 10, 'soap': 3}\n"
     ]
    }
   ],
   "source": [
    "del items[\"hanger\"]\n",
    "print(items)"
   ]
  },
  {
   "cell_type": "code",
   "execution_count": 18,
   "id": "8dae647d",
   "metadata": {},
   "outputs": [
    {
     "name": "stdout",
     "output_type": "stream",
     "text": [
      "{'glass': 10, 'hanger': 4, 'soap': 3}\n"
     ]
    }
   ],
   "source": [
    "items=[\"glass\",\"hanger\",\"soap\"]\n",
    "quantity=[10,4,3]\n",
    "dic=dict(zip(items,quantity))\n",
    "print(dic)"
   ]
  }
 ],
 "metadata": {
  "kernelspec": {
   "display_name": "Python 3",
   "language": "python",
   "name": "python3"
  },
  "language_info": {
   "codemirror_mode": {
    "name": "ipython",
    "version": 3
   },
   "file_extension": ".py",
   "mimetype": "text/x-python",
   "name": "python",
   "nbconvert_exporter": "python",
   "pygments_lexer": "ipython3",
   "version": "3.8.8"
  }
 },
 "nbformat": 4,
 "nbformat_minor": 5
}
