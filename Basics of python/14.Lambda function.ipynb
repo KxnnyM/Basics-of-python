{
 "cells": [
  {
   "cell_type": "code",
   "execution_count": 1,
   "id": "825ca6b3",
   "metadata": {},
   "outputs": [
    {
     "name": "stdout",
     "output_type": "stream",
     "text": [
      "12\n"
     ]
    }
   ],
   "source": [
    "#python function to find greater number\n",
    "def greater(num1,num2):\n",
    "    if (num1>num2):\n",
    "        return num1\n",
    "    else:\n",
    "        return num2\n",
    "great = greater(12,2)\n",
    "print(great)"
   ]
  },
  {
   "cell_type": "code",
   "execution_count": 2,
   "id": "12dca96f",
   "metadata": {},
   "outputs": [
    {
     "data": {
      "text/plain": [
       "12"
      ]
     },
     "execution_count": 2,
     "metadata": {},
     "output_type": "execute_result"
    }
   ],
   "source": [
    "#lambda function to find the greater number\n",
    "great = lambda num1,num2: num1 if num1>num2 else num2\n",
    "great(12,2)"
   ]
  },
  {
   "cell_type": "markdown",
   "id": "946a4e2b",
   "metadata": {},
   "source": [
    "### LAMBDA WITH MAP()"
   ]
  },
  {
   "cell_type": "code",
   "execution_count": 3,
   "id": "d97cf62f",
   "metadata": {},
   "outputs": [
    {
     "data": {
      "text/plain": [
       "[1, 4, 9, 16, 25, 36, 49, 64, 81, 100]"
      ]
     },
     "execution_count": 3,
     "metadata": {},
     "output_type": "execute_result"
    }
   ],
   "source": [
    "num = list(range(1,11))\n",
    "sq = list (map(lambda x: x**2, num))\n",
    "sq"
   ]
  },
  {
   "cell_type": "markdown",
   "id": "b5f9cae3",
   "metadata": {},
   "source": [
    "### LAMBDA WITH FILTER()"
   ]
  },
  {
   "cell_type": "code",
   "execution_count": 4,
   "id": "4a0250bd",
   "metadata": {},
   "outputs": [
    {
     "data": {
      "text/plain": [
       "[5, 10]"
      ]
     },
     "execution_count": 4,
     "metadata": {},
     "output_type": "execute_result"
    }
   ],
   "source": [
    "num = list(range(1,11))\n",
    "n = list(filter(lambda x : x%5 == 0, num))\n",
    "n"
   ]
  },
  {
   "cell_type": "markdown",
   "id": "7bf5fa2d",
   "metadata": {},
   "source": [
    "### LAMBDA WITH REDUCE()"
   ]
  },
  {
   "cell_type": "code",
   "execution_count": 5,
   "id": "0a0931a1",
   "metadata": {},
   "outputs": [
    {
     "data": {
      "text/plain": [
       "120"
      ]
     },
     "execution_count": 5,
     "metadata": {},
     "output_type": "execute_result"
    }
   ],
   "source": [
    "from functools import reduce\n",
    "num =[1,2,3,4,5]\n",
    "\n",
    "reduce(lambda a,b : a*b,num) #factorial of 5"
   ]
  },
  {
   "cell_type": "code",
   "execution_count": 6,
   "id": "2156160b",
   "metadata": {},
   "outputs": [
    {
     "data": {
      "text/plain": [
       "-10"
      ]
     },
     "execution_count": 6,
     "metadata": {},
     "output_type": "execute_result"
    }
   ],
   "source": [
    "from functools import reduce\n",
    "num =[100,123,20,-10,41]\n",
    "\n",
    "reduce(lambda a,b :a if a<b else b, num)"
   ]
  }
 ],
 "metadata": {
  "kernelspec": {
   "display_name": "Python 3",
   "language": "python",
   "name": "python3"
  },
  "language_info": {
   "codemirror_mode": {
    "name": "ipython",
    "version": 3
   },
   "file_extension": ".py",
   "mimetype": "text/x-python",
   "name": "python",
   "nbconvert_exporter": "python",
   "pygments_lexer": "ipython3",
   "version": "3.8.8"
  }
 },
 "nbformat": 4,
 "nbformat_minor": 5
}
