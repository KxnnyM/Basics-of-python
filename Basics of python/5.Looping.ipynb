{
 "cells": [
  {
   "cell_type": "markdown",
   "id": "5fe686c9",
   "metadata": {},
   "source": [
    "### FOR LOOP"
   ]
  },
  {
   "cell_type": "code",
   "execution_count": 1,
   "id": "95ddbfa4",
   "metadata": {},
   "outputs": [
    {
     "name": "stdout",
     "output_type": "stream",
     "text": [
      "55\n"
     ]
    }
   ],
   "source": [
    "n=10\n",
    "add=0\n",
    "i=1\n",
    "while(i<=n):\n",
    "    add=add+i\n",
    "    i=i+1\n",
    "print(add)"
   ]
  },
  {
   "cell_type": "markdown",
   "id": "9560910c",
   "metadata": {},
   "source": [
    "### WHILE LOOP"
   ]
  },
  {
   "cell_type": "code",
   "execution_count": 2,
   "id": "0257b618",
   "metadata": {},
   "outputs": [
    {
     "name": "stdout",
     "output_type": "stream",
     "text": [
      "55\n"
     ]
    }
   ],
   "source": [
    "n=range(1,11)\n",
    "add=0\n",
    "for i in n:\n",
    "    add=add+i\n",
    "print(add)"
   ]
  },
  {
   "cell_type": "markdown",
   "id": "fb2e86c7",
   "metadata": {},
   "source": [
    "### NESTED LOOP"
   ]
  },
  {
   "cell_type": "code",
   "execution_count": 3,
   "id": "94adca24",
   "metadata": {},
   "outputs": [
    {
     "name": "stdout",
     "output_type": "stream",
     "text": [
      "Enter no. of levels:4\n",
      "1\n",
      "\n",
      "22\n",
      "\n",
      "333\n",
      "\n",
      "4444\n",
      "\n"
     ]
    }
   ],
   "source": [
    "levels = int(input(\"Enter no. of levels:\"))\n",
    "for levels in  range(1,levels+1):\n",
    "    for num in  range(levels):\n",
    "        print(levels,end=\"\")\n",
    "    print(\"\\n\")"
   ]
  },
  {
   "cell_type": "markdown",
   "id": "59885b96",
   "metadata": {},
   "source": [
    "### BREAK"
   ]
  },
  {
   "cell_type": "code",
   "execution_count": 4,
   "id": "4f40945c",
   "metadata": {},
   "outputs": [
    {
     "name": "stdout",
     "output_type": "stream",
     "text": [
      "K\n",
      "e\n",
      "n\n",
      "n\n",
      "y\n",
      "M\n",
      "That's my name.\n"
     ]
    }
   ],
   "source": [
    "t=\"KennyMathew\"\n",
    "for i in t:\n",
    "    if i ==\"a\":\n",
    "        break\n",
    "    print(i)\n",
    "print(\"That's my name.\")"
   ]
  },
  {
   "cell_type": "markdown",
   "id": "e2e5776c",
   "metadata": {},
   "source": [
    "### CONTINUE"
   ]
  },
  {
   "cell_type": "code",
   "execution_count": 5,
   "id": "098cc002",
   "metadata": {},
   "outputs": [
    {
     "name": "stdout",
     "output_type": "stream",
     "text": [
      "K\n",
      "e\n",
      "n\n",
      "n\n",
      "y\n",
      "M\n",
      "loop skipped.\n",
      "t\n",
      "h\n",
      "e\n",
      "w\n"
     ]
    }
   ],
   "source": [
    "t=\"KennyMathew\"\n",
    "for i in t:\n",
    "    if i==\"a\":\n",
    "        print(\"loop skipped.\")\n",
    "        continue\n",
    "    print(i)"
   ]
  }
 ],
 "metadata": {
  "kernelspec": {
   "display_name": "Python 3",
   "language": "python",
   "name": "python3"
  },
  "language_info": {
   "codemirror_mode": {
    "name": "ipython",
    "version": 3
   },
   "file_extension": ".py",
   "mimetype": "text/x-python",
   "name": "python",
   "nbconvert_exporter": "python",
   "pygments_lexer": "ipython3",
   "version": "3.8.8"
  }
 },
 "nbformat": 4,
 "nbformat_minor": 5
}
