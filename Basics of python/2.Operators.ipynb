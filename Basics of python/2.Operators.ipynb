{
 "cells": [
  {
   "cell_type": "markdown",
   "id": "91c000cd",
   "metadata": {},
   "source": [
    "### ADDITION"
   ]
  },
  {
   "cell_type": "code",
   "execution_count": 1,
   "id": "5eeb1862",
   "metadata": {},
   "outputs": [
    {
     "name": "stdout",
     "output_type": "stream",
     "text": [
      "15\n"
     ]
    }
   ],
   "source": [
    "a =10\n",
    "b=5\n",
    "total=a+b\n",
    "print(total)"
   ]
  },
  {
   "cell_type": "markdown",
   "id": "d014db0c",
   "metadata": {},
   "source": [
    "### SUBTRACTION"
   ]
  },
  {
   "cell_type": "code",
   "execution_count": 2,
   "id": "b18b63f3",
   "metadata": {},
   "outputs": [
    {
     "name": "stdout",
     "output_type": "stream",
     "text": [
      "5\n"
     ]
    }
   ],
   "source": [
    "a =10\n",
    "b=5\n",
    "total=a-b\n",
    "print(total)"
   ]
  },
  {
   "cell_type": "markdown",
   "id": "1089a8e9",
   "metadata": {},
   "source": [
    "### MULTIPLICATION"
   ]
  },
  {
   "cell_type": "code",
   "execution_count": 3,
   "id": "81504fa2",
   "metadata": {},
   "outputs": [
    {
     "name": "stdout",
     "output_type": "stream",
     "text": [
      "50\n"
     ]
    }
   ],
   "source": [
    "a=10\n",
    "b=5\n",
    "total=a*b\n",
    "print(total)"
   ]
  },
  {
   "cell_type": "markdown",
   "id": "7e56f0c4",
   "metadata": {},
   "source": [
    "### DIVISION"
   ]
  },
  {
   "cell_type": "code",
   "execution_count": 4,
   "id": "68f56d44",
   "metadata": {},
   "outputs": [
    {
     "name": "stdout",
     "output_type": "stream",
     "text": [
      "2.0\n"
     ]
    }
   ],
   "source": [
    "a =10\n",
    "b=5\n",
    "total=a/b\n",
    "print(total)"
   ]
  },
  {
   "cell_type": "markdown",
   "id": "8c01fd96",
   "metadata": {},
   "source": [
    "### MODULO"
   ]
  },
  {
   "cell_type": "code",
   "execution_count": 5,
   "id": "e0687278",
   "metadata": {},
   "outputs": [
    {
     "name": "stdout",
     "output_type": "stream",
     "text": [
      "0\n"
     ]
    }
   ],
   "source": [
    "a =10\n",
    "b=5\n",
    "total=a%b\n",
    "print(total)"
   ]
  },
  {
   "cell_type": "markdown",
   "id": "8f03b094",
   "metadata": {},
   "source": [
    "### EXPONENTIAL"
   ]
  },
  {
   "cell_type": "code",
   "execution_count": 6,
   "id": "8f10a44e",
   "metadata": {},
   "outputs": [
    {
     "name": "stdout",
     "output_type": "stream",
     "text": [
      "100000\n"
     ]
    }
   ],
   "source": [
    "a =10\n",
    "b=5\n",
    "total=a**b\n",
    "print(total)"
   ]
  },
  {
   "cell_type": "markdown",
   "id": "a3f8bf02",
   "metadata": {},
   "source": [
    "### FLOOR DIVISION"
   ]
  },
  {
   "cell_type": "code",
   "execution_count": 7,
   "id": "48607240",
   "metadata": {},
   "outputs": [
    {
     "name": "stdout",
     "output_type": "stream",
     "text": [
      "2\n"
     ]
    }
   ],
   "source": [
    "a =10\n",
    "b=5\n",
    "total=a//b\n",
    "print(total)"
   ]
  },
  {
   "cell_type": "markdown",
   "id": "5f895455",
   "metadata": {},
   "source": [
    "### INPUT"
   ]
  },
  {
   "cell_type": "code",
   "execution_count": 8,
   "id": "23f9da5c",
   "metadata": {},
   "outputs": [
    {
     "name": "stdout",
     "output_type": "stream",
     "text": [
      "Enter price:20\n",
      "Enter quantity:10\n",
      "200\n"
     ]
    }
   ],
   "source": [
    "price=int(input(\"Enter price:\"))\n",
    "quantity= int(input(\"Enter quantity:\"))\n",
    "total = price*quantity\n",
    "print(total)"
   ]
  },
  {
   "cell_type": "markdown",
   "id": "15db17d7",
   "metadata": {},
   "source": [
    "### RELATIONAL OPERATION"
   ]
  },
  {
   "cell_type": "code",
   "execution_count": 9,
   "id": "13ca79b7",
   "metadata": {},
   "outputs": [],
   "source": [
    "a=10\n",
    "b=20"
   ]
  },
  {
   "cell_type": "code",
   "execution_count": 10,
   "id": "19fa0c96",
   "metadata": {},
   "outputs": [
    {
     "data": {
      "text/plain": [
       "False"
      ]
     },
     "execution_count": 10,
     "metadata": {},
     "output_type": "execute_result"
    }
   ],
   "source": [
    "a==b"
   ]
  },
  {
   "cell_type": "code",
   "execution_count": 11,
   "id": "e5d24138",
   "metadata": {},
   "outputs": [
    {
     "data": {
      "text/plain": [
       "False"
      ]
     },
     "execution_count": 11,
     "metadata": {},
     "output_type": "execute_result"
    }
   ],
   "source": [
    "a>=b"
   ]
  },
  {
   "cell_type": "code",
   "execution_count": 12,
   "id": "6028768b",
   "metadata": {},
   "outputs": [
    {
     "data": {
      "text/plain": [
       "True"
      ]
     },
     "execution_count": 12,
     "metadata": {},
     "output_type": "execute_result"
    }
   ],
   "source": [
    "a<=b"
   ]
  },
  {
   "cell_type": "code",
   "execution_count": 13,
   "id": "00607409",
   "metadata": {},
   "outputs": [
    {
     "data": {
      "text/plain": [
       "True"
      ]
     },
     "execution_count": 13,
     "metadata": {},
     "output_type": "execute_result"
    }
   ],
   "source": [
    "a<b"
   ]
  },
  {
   "cell_type": "code",
   "execution_count": 14,
   "id": "5fc1c53d",
   "metadata": {},
   "outputs": [
    {
     "data": {
      "text/plain": [
       "False"
      ]
     },
     "execution_count": 14,
     "metadata": {},
     "output_type": "execute_result"
    }
   ],
   "source": [
    "a>b"
   ]
  },
  {
   "cell_type": "code",
   "execution_count": 15,
   "id": "97c0ec34",
   "metadata": {},
   "outputs": [
    {
     "data": {
      "text/plain": [
       "True"
      ]
     },
     "execution_count": 15,
     "metadata": {},
     "output_type": "execute_result"
    }
   ],
   "source": [
    "a!=b"
   ]
  },
  {
   "cell_type": "markdown",
   "id": "3f9790a4",
   "metadata": {},
   "source": [
    "### LOGICAL OPERATION"
   ]
  },
  {
   "cell_type": "code",
   "execution_count": 16,
   "id": "0a914e13",
   "metadata": {},
   "outputs": [],
   "source": [
    "x=10"
   ]
  },
  {
   "cell_type": "code",
   "execution_count": 17,
   "id": "80dcd63d",
   "metadata": {},
   "outputs": [
    {
     "data": {
      "text/plain": [
       "True"
      ]
     },
     "execution_count": 17,
     "metadata": {},
     "output_type": "execute_result"
    }
   ],
   "source": [
    "x<15 and x>2"
   ]
  },
  {
   "cell_type": "code",
   "execution_count": 18,
   "id": "a5830855",
   "metadata": {},
   "outputs": [
    {
     "data": {
      "text/plain": [
       "False"
      ]
     },
     "execution_count": 18,
     "metadata": {},
     "output_type": "execute_result"
    }
   ],
   "source": [
    "x<8 and x>2"
   ]
  },
  {
   "cell_type": "code",
   "execution_count": 19,
   "id": "b14d30d5",
   "metadata": {},
   "outputs": [
    {
     "data": {
      "text/plain": [
       "True"
      ]
     },
     "execution_count": 19,
     "metadata": {},
     "output_type": "execute_result"
    }
   ],
   "source": [
    "x<15 or x>2"
   ]
  },
  {
   "cell_type": "code",
   "execution_count": 20,
   "id": "4c8ac734",
   "metadata": {},
   "outputs": [
    {
     "data": {
      "text/plain": [
       "True"
      ]
     },
     "execution_count": 20,
     "metadata": {},
     "output_type": "execute_result"
    }
   ],
   "source": [
    "x<8 or x>2"
   ]
  },
  {
   "cell_type": "code",
   "execution_count": 21,
   "id": "00896e37",
   "metadata": {},
   "outputs": [
    {
     "data": {
      "text/plain": [
       "False"
      ]
     },
     "execution_count": 21,
     "metadata": {},
     "output_type": "execute_result"
    }
   ],
   "source": [
    "not(x)"
   ]
  },
  {
   "cell_type": "code",
   "execution_count": 22,
   "id": "ee0e06fd",
   "metadata": {},
   "outputs": [
    {
     "data": {
      "text/plain": [
       "False"
      ]
     },
     "execution_count": 22,
     "metadata": {},
     "output_type": "execute_result"
    }
   ],
   "source": [
    "not(x<15 and x>2)"
   ]
  },
  {
   "cell_type": "code",
   "execution_count": 23,
   "id": "c91d11a0",
   "metadata": {},
   "outputs": [
    {
     "name": "stdout",
     "output_type": "stream",
     "text": [
      "True\n"
     ]
    }
   ],
   "source": [
    "vowels =\"aeiou\"\n",
    "print (\"u\"in vowels)"
   ]
  },
  {
   "cell_type": "code",
   "execution_count": 24,
   "id": "85c99a4a",
   "metadata": {},
   "outputs": [
    {
     "name": "stdout",
     "output_type": "stream",
     "text": [
      "False\n"
     ]
    }
   ],
   "source": [
    "print(\"x\" in vowels)"
   ]
  },
  {
   "cell_type": "code",
   "execution_count": 25,
   "id": "d06e50f4",
   "metadata": {},
   "outputs": [
    {
     "data": {
      "text/plain": [
       "False"
      ]
     },
     "execution_count": 25,
     "metadata": {},
     "output_type": "execute_result"
    }
   ],
   "source": [
    "n=10\n",
    "(n%2==0)&(n%3==0)"
   ]
  },
  {
   "cell_type": "code",
   "execution_count": 26,
   "id": "d1d2e554",
   "metadata": {},
   "outputs": [
    {
     "data": {
      "text/plain": [
       "True"
      ]
     },
     "execution_count": 26,
     "metadata": {},
     "output_type": "execute_result"
    }
   ],
   "source": [
    "(n%2==0)|(n%3==0)"
   ]
  },
  {
   "cell_type": "code",
   "execution_count": 27,
   "id": "e6d23c53",
   "metadata": {},
   "outputs": [
    {
     "data": {
      "text/plain": [
       "0"
      ]
     },
     "execution_count": 27,
     "metadata": {},
     "output_type": "execute_result"
    }
   ],
   "source": [
    "a=10 \n",
    "b=4\n",
    "a&b"
   ]
  },
  {
   "cell_type": "code",
   "execution_count": 28,
   "id": "1f368fe6",
   "metadata": {},
   "outputs": [
    {
     "data": {
      "text/plain": [
       "15"
      ]
     },
     "execution_count": 28,
     "metadata": {},
     "output_type": "execute_result"
    }
   ],
   "source": [
    "a=10\n",
    "b=5\n",
    "a|b"
   ]
  }
 ],
 "metadata": {
  "kernelspec": {
   "display_name": "Python 3",
   "language": "python",
   "name": "python3"
  },
  "language_info": {
   "codemirror_mode": {
    "name": "ipython",
    "version": 3
   },
   "file_extension": ".py",
   "mimetype": "text/x-python",
   "name": "python",
   "nbconvert_exporter": "python",
   "pygments_lexer": "ipython3",
   "version": "3.8.8"
  }
 },
 "nbformat": 4,
 "nbformat_minor": 5
}
