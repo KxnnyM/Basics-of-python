{
 "cells": [
  {
   "cell_type": "code",
   "execution_count": 1,
   "id": "5bf53b03",
   "metadata": {},
   "outputs": [
    {
     "name": "stdout",
     "output_type": "stream",
     "text": [
      "['Kenny', 'Joe', 'Arshad', 'San', 'Venkat']\n"
     ]
    },
    {
     "data": {
      "text/plain": [
       "list"
      ]
     },
     "execution_count": 1,
     "metadata": {},
     "output_type": "execute_result"
    }
   ],
   "source": [
    "l = [\"Kenny\",\"Joe\",\"Arshad\",\"San\",\"Venkat\"]\n",
    "print(l)\n",
    "type(l)"
   ]
  },
  {
   "cell_type": "markdown",
   "id": "01edf568",
   "metadata": {},
   "source": [
    "### CONCATENATE"
   ]
  },
  {
   "cell_type": "code",
   "execution_count": 2,
   "id": "ffd1ae8e",
   "metadata": {},
   "outputs": [
    {
     "name": "stdout",
     "output_type": "stream",
     "text": [
      "['Prithvi', 'karthik', 'Ashwin']\n",
      "['Kenny', 'Joe', 'Arshad', 'San', 'Venkat', 'Prithvi', 'karthik', 'Ashwin']\n"
     ]
    }
   ],
   "source": [
    "l2 = [\"Prithvi\",\"karthik\",\"Ashwin\"]\n",
    "print(l2)\n",
    "names = l+l2\n",
    "print(names)"
   ]
  },
  {
   "cell_type": "code",
   "execution_count": 3,
   "id": "d41ed5d3",
   "metadata": {},
   "outputs": [
    {
     "data": {
      "text/plain": [
       "list"
      ]
     },
     "execution_count": 3,
     "metadata": {},
     "output_type": "execute_result"
    }
   ],
   "source": [
    "type(names)"
   ]
  },
  {
   "cell_type": "markdown",
   "id": "ed0a45e7",
   "metadata": {},
   "source": [
    "### APPEND"
   ]
  },
  {
   "cell_type": "code",
   "execution_count": 4,
   "id": "c3396264",
   "metadata": {},
   "outputs": [
    {
     "name": "stdout",
     "output_type": "stream",
     "text": [
      "['Kenny', 'Joe', 'Arshad', 'San', 'Venkat', 'Prithvi', 'karthik', 'Ashwin', 'James']\n"
     ]
    }
   ],
   "source": [
    "names.append(\"James\")\n",
    "print(names)"
   ]
  },
  {
   "cell_type": "code",
   "execution_count": 5,
   "id": "572d0413",
   "metadata": {},
   "outputs": [
    {
     "name": "stdout",
     "output_type": "stream",
     "text": [
      "[12, 20, 35, 41, 52]\n"
     ]
    }
   ],
   "source": [
    "prices=[20,12,41,52,35]\n",
    "prices.sort()\n",
    "print(prices)"
   ]
  },
  {
   "cell_type": "code",
   "execution_count": 6,
   "id": "5d50f27d",
   "metadata": {},
   "outputs": [
    {
     "name": "stdout",
     "output_type": "stream",
     "text": [
      "['bread', 'chips', 'chocolate', 'milk', 'noodles']\n"
     ]
    }
   ],
   "source": [
    "groceries=[\"chocolate\",\"chips\",\"noodles\",\"bread\",\"milk\"]\n",
    "groceries.sort()\n",
    "print(groceries)"
   ]
  },
  {
   "cell_type": "markdown",
   "id": "dcf03d8a",
   "metadata": {},
   "source": [
    "### SORT THE LIST IN REVERSE ORDER"
   ]
  },
  {
   "cell_type": "code",
   "execution_count": 7,
   "id": "564c3f10",
   "metadata": {},
   "outputs": [
    {
     "name": "stdout",
     "output_type": "stream",
     "text": [
      "[55, 55, 52, 47, 45, 45, 36, 32]\n"
     ]
    }
   ],
   "source": [
    "marks = [45,55,45,32,36,47,55,52]\n",
    "b = sorted(marks,reverse=True)\n",
    "print(b)"
   ]
  },
  {
   "cell_type": "code",
   "execution_count": 8,
   "id": "d8dec018",
   "metadata": {},
   "outputs": [
    {
     "ename": "TypeError",
     "evalue": "'<' not supported between instances of 'str' and 'float'",
     "output_type": "error",
     "traceback": [
      "\u001b[1;31m---------------------------------------------------------------------------\u001b[0m",
      "\u001b[1;31mTypeError\u001b[0m                                 Traceback (most recent call last)",
      "\u001b[1;32m<ipython-input-8-33fb7fa24d25>\u001b[0m in \u001b[0;36m<module>\u001b[1;34m\u001b[0m\n\u001b[0;32m      1\u001b[0m \u001b[0mlist\u001b[0m \u001b[1;33m=\u001b[0m \u001b[1;33m[\u001b[0m\u001b[1;36m12\u001b[0m\u001b[1;33m,\u001b[0m\u001b[1;36m14.62\u001b[0m\u001b[1;33m,\u001b[0m\u001b[1;34m\"Chennai\"\u001b[0m\u001b[1;33m,\u001b[0m\u001b[1;34m\"India\"\u001b[0m\u001b[1;33m]\u001b[0m\u001b[1;33m\u001b[0m\u001b[1;33m\u001b[0m\u001b[0m\n\u001b[1;32m----> 2\u001b[1;33m \u001b[0mlist\u001b[0m\u001b[1;33m.\u001b[0m\u001b[0msort\u001b[0m\u001b[1;33m(\u001b[0m\u001b[1;33m)\u001b[0m\u001b[1;33m\u001b[0m\u001b[1;33m\u001b[0m\u001b[0m\n\u001b[0m\u001b[0;32m      3\u001b[0m \u001b[0mprint\u001b[0m\u001b[1;33m(\u001b[0m\u001b[0mlist\u001b[0m\u001b[1;33m)\u001b[0m\u001b[1;33m\u001b[0m\u001b[1;33m\u001b[0m\u001b[0m\n",
      "\u001b[1;31mTypeError\u001b[0m: '<' not supported between instances of 'str' and 'float'"
     ]
    }
   ],
   "source": [
    "list = [12,14.62,\"Chennai\",\"India\"]\n",
    "list.sort()\n",
    "print(list)"
   ]
  },
  {
   "cell_type": "code",
   "execution_count": 9,
   "id": "992138da",
   "metadata": {},
   "outputs": [
    {
     "name": "stdout",
     "output_type": "stream",
     "text": [
      "[12, 20.1, 35, 41.5, 52]\n"
     ]
    }
   ],
   "source": [
    "prices2=[12,41.5,52,35,20.1]\n",
    "prices2_sorted = sorted(prices2)\n",
    "print(prices2_sorted)"
   ]
  },
  {
   "cell_type": "code",
   "execution_count": 10,
   "id": "d069ef9c",
   "metadata": {},
   "outputs": [
    {
     "name": "stdout",
     "output_type": "stream",
     "text": [
      "True\n"
     ]
    }
   ],
   "source": [
    "print(\"chips\" in groceries)"
   ]
  },
  {
   "cell_type": "code",
   "execution_count": 11,
   "id": "d06aa822",
   "metadata": {},
   "outputs": [
    {
     "name": "stdout",
     "output_type": "stream",
     "text": [
      "True\n"
     ]
    }
   ],
   "source": [
    "print (12 in prices)"
   ]
  },
  {
   "cell_type": "code",
   "execution_count": 12,
   "id": "9b19827f",
   "metadata": {},
   "outputs": [
    {
     "name": "stdout",
     "output_type": "stream",
     "text": [
      "False\n"
     ]
    }
   ],
   "source": [
    "print(100 in prices)"
   ]
  },
  {
   "cell_type": "code",
   "execution_count": 13,
   "id": "541a9039",
   "metadata": {},
   "outputs": [
    {
     "name": "stdout",
     "output_type": "stream",
     "text": [
      "blah\n",
      "huh\n",
      "bleh\n"
     ]
    }
   ],
   "source": [
    "a = [\"blah\",\"huh\",\"bleh\"]\n",
    "for b in a:\n",
    "    print(b)"
   ]
  },
  {
   "cell_type": "markdown",
   "id": "d41c68ee",
   "metadata": {},
   "source": [
    "### LENGTH OF THE LIST "
   ]
  },
  {
   "cell_type": "code",
   "execution_count": 14,
   "id": "0d75b773",
   "metadata": {},
   "outputs": [
    {
     "data": {
      "text/plain": [
       "5"
      ]
     },
     "execution_count": 14,
     "metadata": {},
     "output_type": "execute_result"
    }
   ],
   "source": [
    "x = [12,23,34,45,56]\n",
    "len(x)"
   ]
  },
  {
   "cell_type": "code",
   "execution_count": 15,
   "id": "9b52c350",
   "metadata": {},
   "outputs": [
    {
     "data": {
      "text/plain": [
       "56"
      ]
     },
     "execution_count": 15,
     "metadata": {},
     "output_type": "execute_result"
    }
   ],
   "source": [
    "max(x)"
   ]
  },
  {
   "cell_type": "code",
   "execution_count": 16,
   "id": "2225d031",
   "metadata": {},
   "outputs": [
    {
     "data": {
      "text/plain": [
       "12"
      ]
     },
     "execution_count": 16,
     "metadata": {},
     "output_type": "execute_result"
    }
   ],
   "source": [
    "min(x)"
   ]
  },
  {
   "cell_type": "code",
   "execution_count": 17,
   "id": "f0a97872",
   "metadata": {},
   "outputs": [
    {
     "ename": "TypeError",
     "evalue": "'>' not supported between instances of 'str' and 'int'",
     "output_type": "error",
     "traceback": [
      "\u001b[1;31m---------------------------------------------------------------------------\u001b[0m",
      "\u001b[1;31mTypeError\u001b[0m                                 Traceback (most recent call last)",
      "\u001b[1;32m<ipython-input-17-817fe00a8494>\u001b[0m in \u001b[0;36m<module>\u001b[1;34m\u001b[0m\n\u001b[0;32m      1\u001b[0m \u001b[0my\u001b[0m \u001b[1;33m=\u001b[0m \u001b[1;33m[\u001b[0m\u001b[1;36m12\u001b[0m\u001b[1;33m,\u001b[0m\u001b[1;36m12.4\u001b[0m\u001b[1;33m,\u001b[0m\u001b[1;36m14\u001b[0m\u001b[1;33m,\u001b[0m\u001b[1;34m\"k\"\u001b[0m\u001b[1;33m]\u001b[0m\u001b[1;33m\u001b[0m\u001b[1;33m\u001b[0m\u001b[0m\n\u001b[1;32m----> 2\u001b[1;33m \u001b[0mmax\u001b[0m\u001b[1;33m(\u001b[0m\u001b[0my\u001b[0m\u001b[1;33m)\u001b[0m\u001b[1;33m\u001b[0m\u001b[1;33m\u001b[0m\u001b[0m\n\u001b[0m",
      "\u001b[1;31mTypeError\u001b[0m: '>' not supported between instances of 'str' and 'int'"
     ]
    }
   ],
   "source": [
    "y = [12,12.4,14,\"k\"]\n",
    "max(y)"
   ]
  },
  {
   "cell_type": "code",
   "execution_count": 18,
   "id": "bd5ee90f",
   "metadata": {},
   "outputs": [
    {
     "data": {
      "text/plain": [
       "14.2"
      ]
     },
     "execution_count": 18,
     "metadata": {},
     "output_type": "execute_result"
    }
   ],
   "source": [
    "z = [12,14.2,13]\n",
    "max(z)\n"
   ]
  },
  {
   "cell_type": "code",
   "execution_count": 19,
   "id": "c3e11c80",
   "metadata": {},
   "outputs": [
    {
     "name": "stdout",
     "output_type": "stream",
     "text": [
      "[12, 14.2, 13]\n"
     ]
    }
   ],
   "source": [
    "print(z)"
   ]
  },
  {
   "cell_type": "code",
   "execution_count": 20,
   "id": "bea47f6f",
   "metadata": {},
   "outputs": [],
   "source": [
    "z.clear()"
   ]
  },
  {
   "cell_type": "code",
   "execution_count": 21,
   "id": "fa622ffd",
   "metadata": {},
   "outputs": [
    {
     "name": "stdout",
     "output_type": "stream",
     "text": [
      "[]\n"
     ]
    }
   ],
   "source": [
    "print(z)"
   ]
  },
  {
   "cell_type": "markdown",
   "id": "07a7d3cb",
   "metadata": {},
   "source": [
    "### EXTENDING"
   ]
  },
  {
   "cell_type": "code",
   "execution_count": 22,
   "id": "476e3a89",
   "metadata": {},
   "outputs": [
    {
     "data": {
      "text/plain": [
       "['bread', 'butter', 'jam', 'cookie', 'chocolate', 'chips']"
      ]
     },
     "execution_count": 22,
     "metadata": {},
     "output_type": "execute_result"
    }
   ],
   "source": [
    "p =[\"bread\",\"butter\",\"jam\"]\n",
    "o = [\"cookie\",\"chocolate\",\"chips\"]\n",
    "p.extend(o)\n",
    "p"
   ]
  },
  {
   "cell_type": "markdown",
   "id": "9a7c1e2a",
   "metadata": {},
   "source": [
    "### INDEXING"
   ]
  },
  {
   "cell_type": "code",
   "execution_count": 23,
   "id": "dcbc415f",
   "metadata": {},
   "outputs": [
    {
     "data": {
      "text/plain": [
       "2"
      ]
     },
     "execution_count": 23,
     "metadata": {},
     "output_type": "execute_result"
    }
   ],
   "source": [
    "p =[\"bread\",\"butter\",\"jam\",\"cookie\",\"chocolate\",\"chips\"]\n",
    "p.index(\"jam\")"
   ]
  },
  {
   "cell_type": "markdown",
   "id": "d3172a34",
   "metadata": {},
   "source": [
    "### INSERTING"
   ]
  },
  {
   "cell_type": "code",
   "execution_count": 24,
   "id": "504031c4",
   "metadata": {},
   "outputs": [
    {
     "data": {
      "text/plain": [
       "['bread', 'butter', 'fish', 'jam', 'cookie', 'chocolate', 'chips']"
      ]
     },
     "execution_count": 24,
     "metadata": {},
     "output_type": "execute_result"
    }
   ],
   "source": [
    "p =[\"bread\",\"butter\",\"jam\",\"cookie\",\"chocolate\",\"chips\"]\n",
    "p.insert(2,\"fish\")\n",
    "p"
   ]
  },
  {
   "cell_type": "markdown",
   "id": "0fb37ce0",
   "metadata": {},
   "source": [
    "### POP"
   ]
  },
  {
   "cell_type": "code",
   "execution_count": 25,
   "id": "c23dcb4a",
   "metadata": {},
   "outputs": [
    {
     "data": {
      "text/plain": [
       "['bread', 'butter', 'jam', 'cookie', 'chocolate']"
      ]
     },
     "execution_count": 25,
     "metadata": {},
     "output_type": "execute_result"
    }
   ],
   "source": [
    "p =[\"bread\",\"butter\",\"jam\",\"cookie\",\"chocolate\",\"chips\"]\n",
    "p.pop()\n",
    "p"
   ]
  },
  {
   "cell_type": "code",
   "execution_count": 26,
   "id": "faad3106",
   "metadata": {},
   "outputs": [
    {
     "data": {
      "text/plain": [
       "['bread', 'butter', 'jam', 'chocolate', 'chips']"
      ]
     },
     "execution_count": 26,
     "metadata": {},
     "output_type": "execute_result"
    }
   ],
   "source": [
    "p =[\"bread\",\"butter\",\"jam\",\"cookie\",\"chocolate\",\"chips\"]\n",
    "p.pop(3)\n",
    "p"
   ]
  },
  {
   "cell_type": "markdown",
   "id": "0a14dc8d",
   "metadata": {},
   "source": [
    "### REVERSING"
   ]
  },
  {
   "cell_type": "code",
   "execution_count": 27,
   "id": "670f16ab",
   "metadata": {},
   "outputs": [
    {
     "name": "stdout",
     "output_type": "stream",
     "text": [
      "[12, 12, 'k', 14, 12.4, 12]\n"
     ]
    }
   ],
   "source": [
    "y = [12,12.4,14,\"k\",12,12]\n",
    "y.reverse()\n",
    "print(y)"
   ]
  },
  {
   "cell_type": "markdown",
   "id": "8000ca89",
   "metadata": {},
   "source": [
    "### COUNTING"
   ]
  },
  {
   "cell_type": "code",
   "execution_count": 28,
   "id": "17fe26a6",
   "metadata": {},
   "outputs": [
    {
     "data": {
      "text/plain": [
       "3"
      ]
     },
     "execution_count": 28,
     "metadata": {},
     "output_type": "execute_result"
    }
   ],
   "source": [
    "y = [12,12.4,14,\"k\",12,12]\n",
    "y.count(12)"
   ]
  },
  {
   "cell_type": "code",
   "execution_count": 29,
   "id": "a7de0178",
   "metadata": {},
   "outputs": [
    {
     "data": {
      "text/plain": [
       "3"
      ]
     },
     "execution_count": 29,
     "metadata": {},
     "output_type": "execute_result"
    }
   ],
   "source": [
    "y = [12,12.4,14,\"k\",12,12]\n",
    "y.index(\"k\")"
   ]
  },
  {
   "cell_type": "markdown",
   "id": "2128f946",
   "metadata": {},
   "source": [
    "### SLICING"
   ]
  },
  {
   "cell_type": "code",
   "execution_count": 30,
   "id": "f468a60e",
   "metadata": {},
   "outputs": [
    {
     "data": {
      "text/plain": [
       "['bread', 'butter', 'jam']"
      ]
     },
     "execution_count": 30,
     "metadata": {},
     "output_type": "execute_result"
    }
   ],
   "source": [
    "p =[\"bread\",\"butter\",\"jam\",\"cookie\",\"chocolate\",\"chips\"]\n",
    "p[0:3]"
   ]
  },
  {
   "cell_type": "code",
   "execution_count": 31,
   "id": "ec41bb54",
   "metadata": {},
   "outputs": [
    {
     "data": {
      "text/plain": [
       "['cookie', 'chocolate']"
      ]
     },
     "execution_count": 31,
     "metadata": {},
     "output_type": "execute_result"
    }
   ],
   "source": [
    "p[3:5]"
   ]
  },
  {
   "cell_type": "code",
   "execution_count": 32,
   "id": "8cea1d7b",
   "metadata": {},
   "outputs": [
    {
     "data": {
      "text/plain": [
       "['bread', 'butter', 'jam', 'cookie', 'chocolate']"
      ]
     },
     "execution_count": 32,
     "metadata": {},
     "output_type": "execute_result"
    }
   ],
   "source": [
    "p[0:-1]"
   ]
  },
  {
   "cell_type": "code",
   "execution_count": 33,
   "id": "1c1984a6",
   "metadata": {},
   "outputs": [
    {
     "data": {
      "text/plain": [
       "['butter', 'jam', 'cookie']"
      ]
     },
     "execution_count": 33,
     "metadata": {},
     "output_type": "execute_result"
    }
   ],
   "source": [
    "p[1:-2]"
   ]
  },
  {
   "cell_type": "code",
   "execution_count": 34,
   "id": "19a3325c",
   "metadata": {},
   "outputs": [
    {
     "data": {
      "text/plain": [
       "['cookie', 'chocolate']"
      ]
     },
     "execution_count": 34,
     "metadata": {},
     "output_type": "execute_result"
    }
   ],
   "source": [
    "p[-3:-1]"
   ]
  }
 ],
 "metadata": {
  "kernelspec": {
   "display_name": "Python 3",
   "language": "python",
   "name": "python3"
  },
  "language_info": {
   "codemirror_mode": {
    "name": "ipython",
    "version": 3
   },
   "file_extension": ".py",
   "mimetype": "text/x-python",
   "name": "python",
   "nbconvert_exporter": "python",
   "pygments_lexer": "ipython3",
   "version": "3.8.8"
  }
 },
 "nbformat": 4,
 "nbformat_minor": 5
}
