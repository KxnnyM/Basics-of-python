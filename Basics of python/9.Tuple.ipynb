{
 "cells": [
  {
   "cell_type": "code",
   "execution_count": 1,
   "id": "f8fada22",
   "metadata": {},
   "outputs": [
    {
     "name": "stdout",
     "output_type": "stream",
     "text": [
      "(12, 14, 'sugar', 'Bread')\n"
     ]
    },
    {
     "data": {
      "text/plain": [
       "tuple"
      ]
     },
     "execution_count": 1,
     "metadata": {},
     "output_type": "execute_result"
    }
   ],
   "source": [
    "t = (12,14,\"sugar\",\"Bread\")\n",
    "print(t)\n",
    "type(t)"
   ]
  },
  {
   "cell_type": "code",
   "execution_count": 2,
   "id": "948e4ff2",
   "metadata": {},
   "outputs": [
    {
     "name": "stdout",
     "output_type": "stream",
     "text": [
      "(12, 14, 'sugar', 'Bread')\n"
     ]
    },
    {
     "data": {
      "text/plain": [
       "tuple"
      ]
     },
     "execution_count": 2,
     "metadata": {},
     "output_type": "execute_result"
    }
   ],
   "source": [
    "t2 = 12,14,\"sugar\",\"Bread\"\n",
    "print(t2)\n",
    "type(t2)"
   ]
  },
  {
   "cell_type": "code",
   "execution_count": 3,
   "id": "10319e7c",
   "metadata": {},
   "outputs": [
    {
     "data": {
      "text/plain": [
       "[14, 19, 20, 23, 52]"
      ]
     },
     "execution_count": 3,
     "metadata": {},
     "output_type": "execute_result"
    }
   ],
   "source": [
    "x = 19,14,52,23,20\n",
    "sorted(x)"
   ]
  },
  {
   "cell_type": "code",
   "execution_count": 4,
   "id": "dfa27b68",
   "metadata": {},
   "outputs": [
    {
     "data": {
      "text/plain": [
       "[14.2, 19.5, 20, 23, 52.2]"
      ]
     },
     "execution_count": 4,
     "metadata": {},
     "output_type": "execute_result"
    }
   ],
   "source": [
    "y = 19.5,14.2,52.2,23,20\n",
    "sorted(y)"
   ]
  },
  {
   "cell_type": "code",
   "execution_count": 5,
   "id": "bc02b691",
   "metadata": {},
   "outputs": [
    {
     "name": "stdout",
     "output_type": "stream",
     "text": [
      "[9, 12, 15, 20]\n"
     ]
    },
    {
     "data": {
      "text/plain": [
       "list"
      ]
     },
     "execution_count": 5,
     "metadata": {},
     "output_type": "execute_result"
    }
   ],
   "source": [
    "a = 12,20,9,15\n",
    "b = sorted(a)# creates a list\n",
    "print(b)\n",
    "type(b)"
   ]
  },
  {
   "cell_type": "code",
   "execution_count": 6,
   "id": "90e1cb99",
   "metadata": {},
   "outputs": [
    {
     "name": "stdout",
     "output_type": "stream",
     "text": [
      "('pepsi', 'coke', 'fanta', 'pepsi', 'coke', 'fanta', 'pepsi', 'coke', 'fanta')\n"
     ]
    }
   ],
   "source": [
    "z = \"pepsi\",\"coke\",\"fanta\"\n",
    "n=3\n",
    "y=z*n\n",
    "print(y)"
   ]
  },
  {
   "cell_type": "markdown",
   "id": "db81ee4f",
   "metadata": {},
   "source": [
    "### SORTED\n",
    "##### Tuple does not have a sort fucntion"
   ]
  },
  {
   "cell_type": "code",
   "execution_count": 7,
   "id": "d779a6d5",
   "metadata": {},
   "outputs": [
    {
     "data": {
      "text/plain": [
       "[12, 12, 22, 56, 56, 68, 94]"
      ]
     },
     "execution_count": 7,
     "metadata": {},
     "output_type": "execute_result"
    }
   ],
   "source": [
    "prices=(12,56,68,22,94,12,56)\n",
    "sorted(prices)"
   ]
  },
  {
   "cell_type": "markdown",
   "id": "71053b4a",
   "metadata": {},
   "source": [
    "### CONCATENATE"
   ]
  },
  {
   "cell_type": "code",
   "execution_count": 8,
   "id": "1d1c594b",
   "metadata": {},
   "outputs": [
    {
     "name": "stdout",
     "output_type": "stream",
     "text": [
      "('pepsi', 'coke', 'fanta', 'pizza', 'burger', 'sandwich')\n"
     ]
    }
   ],
   "source": [
    "x = \"pizza\",\"burger\",\"sandwich\"\n",
    "y = z+x\n",
    "print(y)"
   ]
  },
  {
   "cell_type": "code",
   "execution_count": 9,
   "id": "268a75db",
   "metadata": {},
   "outputs": [
    {
     "name": "stdout",
     "output_type": "stream",
     "text": [
      "True\n",
      "True\n"
     ]
    }
   ],
   "source": [
    "print(\"pepsi\" in z)\n",
    "print(\"dew\" not in z)"
   ]
  },
  {
   "cell_type": "code",
   "execution_count": 10,
   "id": "b0672efa",
   "metadata": {},
   "outputs": [
    {
     "name": "stdout",
     "output_type": "stream",
     "text": [
      "pepsi\n",
      "coke\n",
      "fanta\n"
     ]
    }
   ],
   "source": [
    "for i in z:\n",
    "    print(i)"
   ]
  },
  {
   "cell_type": "code",
   "execution_count": 11,
   "id": "4c887043",
   "metadata": {},
   "outputs": [
    {
     "data": {
      "text/plain": [
       "3"
      ]
     },
     "execution_count": 11,
     "metadata": {},
     "output_type": "execute_result"
    }
   ],
   "source": [
    "len(z)"
   ]
  },
  {
   "cell_type": "code",
   "execution_count": 12,
   "id": "8ac5de9a",
   "metadata": {},
   "outputs": [
    {
     "data": {
      "text/plain": [
       "20"
      ]
     },
     "execution_count": 12,
     "metadata": {},
     "output_type": "execute_result"
    }
   ],
   "source": [
    "a = 12,20,9,15\n",
    "max(a)"
   ]
  },
  {
   "cell_type": "code",
   "execution_count": 13,
   "id": "c1ff1091",
   "metadata": {},
   "outputs": [
    {
     "data": {
      "text/plain": [
       "9"
      ]
     },
     "execution_count": 13,
     "metadata": {},
     "output_type": "execute_result"
    }
   ],
   "source": [
    "a = 12,20,9,15\n",
    "min(a)"
   ]
  },
  {
   "cell_type": "code",
   "execution_count": 14,
   "id": "4106ad68",
   "metadata": {},
   "outputs": [
    {
     "ename": "TypeError",
     "evalue": "'>' not supported between instances of 'str' and 'int'",
     "output_type": "error",
     "traceback": [
      "\u001b[1;31m---------------------------------------------------------------------------\u001b[0m",
      "\u001b[1;31mTypeError\u001b[0m                                 Traceback (most recent call last)",
      "\u001b[1;32m<ipython-input-14-e96bd7649409>\u001b[0m in \u001b[0;36m<module>\u001b[1;34m\u001b[0m\n\u001b[0;32m      1\u001b[0m \u001b[0mtup\u001b[0m \u001b[1;33m=\u001b[0m \u001b[1;33m(\u001b[0m\u001b[1;36m12\u001b[0m\u001b[1;33m,\u001b[0m\u001b[1;36m123\u001b[0m\u001b[1;33m,\u001b[0m\u001b[1;36m4.4\u001b[0m\u001b[1;33m,\u001b[0m\u001b[1;34m\"car\"\u001b[0m\u001b[1;33m)\u001b[0m\u001b[1;33m\u001b[0m\u001b[1;33m\u001b[0m\u001b[0m\n\u001b[1;32m----> 2\u001b[1;33m \u001b[0mmax\u001b[0m\u001b[1;33m(\u001b[0m\u001b[0mtup\u001b[0m\u001b[1;33m)\u001b[0m\u001b[1;33m\u001b[0m\u001b[1;33m\u001b[0m\u001b[0m\n\u001b[0m",
      "\u001b[1;31mTypeError\u001b[0m: '>' not supported between instances of 'str' and 'int'"
     ]
    }
   ],
   "source": [
    "tup = (12,123,4.4,\"car\")\n",
    "max(tup)"
   ]
  },
  {
   "cell_type": "code",
   "execution_count": 15,
   "id": "1b513b78",
   "metadata": {},
   "outputs": [
    {
     "ename": "TypeError",
     "evalue": "'tuple' object doesn't support item deletion",
     "output_type": "error",
     "traceback": [
      "\u001b[1;31m---------------------------------------------------------------------------\u001b[0m",
      "\u001b[1;31mTypeError\u001b[0m                                 Traceback (most recent call last)",
      "\u001b[1;32m<ipython-input-15-28eafd173795>\u001b[0m in \u001b[0;36m<module>\u001b[1;34m\u001b[0m\n\u001b[1;32m----> 1\u001b[1;33m \u001b[1;32mdel\u001b[0m \u001b[0mtup\u001b[0m\u001b[1;33m[\u001b[0m\u001b[1;36m0\u001b[0m\u001b[1;33m]\u001b[0m\u001b[1;33m\u001b[0m\u001b[1;33m\u001b[0m\u001b[0m\n\u001b[0m",
      "\u001b[1;31mTypeError\u001b[0m: 'tuple' object doesn't support item deletion"
     ]
    }
   ],
   "source": [
    "del tup[0]"
   ]
  },
  {
   "cell_type": "code",
   "execution_count": 16,
   "id": "b9f75751",
   "metadata": {},
   "outputs": [
    {
     "name": "stdout",
     "output_type": "stream",
     "text": [
      "(20, 35, 15, [4, 6, 12, 15])\n"
     ]
    }
   ],
   "source": [
    "p = (20,35,15,[4,6,12])\n",
    "p[3].append(15)\n",
    "print(p)"
   ]
  },
  {
   "cell_type": "code",
   "execution_count": 17,
   "id": "3af8b20c",
   "metadata": {},
   "outputs": [
    {
     "data": {
      "text/plain": [
       "('harry', 'kenny', 'james')"
      ]
     },
     "execution_count": 17,
     "metadata": {},
     "output_type": "execute_result"
    }
   ],
   "source": [
    "names = (\"harry\",\"kenny\",\"james\",12,31)\n",
    "names[0:3]"
   ]
  },
  {
   "cell_type": "code",
   "execution_count": 18,
   "id": "ee967844",
   "metadata": {},
   "outputs": [
    {
     "data": {
      "text/plain": [
       "('james', 12, 31)"
      ]
     },
     "execution_count": 18,
     "metadata": {},
     "output_type": "execute_result"
    }
   ],
   "source": [
    "names[2:5]"
   ]
  }
 ],
 "metadata": {
  "kernelspec": {
   "display_name": "Python 3",
   "language": "python",
   "name": "python3"
  },
  "language_info": {
   "codemirror_mode": {
    "name": "ipython",
    "version": 3
   },
   "file_extension": ".py",
   "mimetype": "text/x-python",
   "name": "python",
   "nbconvert_exporter": "python",
   "pygments_lexer": "ipython3",
   "version": "3.8.8"
  }
 },
 "nbformat": 4,
 "nbformat_minor": 5
}
