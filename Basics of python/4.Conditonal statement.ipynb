{
 "cells": [
  {
   "cell_type": "markdown",
   "id": "b9ba509b",
   "metadata": {},
   "source": [
    "### If statement"
   ]
  },
  {
   "cell_type": "code",
   "execution_count": 1,
   "id": "ce0a4d5c",
   "metadata": {},
   "outputs": [
    {
     "name": "stdout",
     "output_type": "stream",
     "text": [
      "8 is greater than zero.\n",
      "This is always printed.\n"
     ]
    }
   ],
   "source": [
    "num = 8\n",
    "if(num>0):\n",
    "    print(num,\"is greater than zero.\")\n",
    "print(\"This is always printed.\")"
   ]
  },
  {
   "cell_type": "code",
   "execution_count": 2,
   "id": "02e16736",
   "metadata": {},
   "outputs": [
    {
     "name": "stdout",
     "output_type": "stream",
     "text": [
      "This is always printed.\n"
     ]
    }
   ],
   "source": [
    "num =-1\n",
    "if (num>0):\n",
    "    print(num,\"is greater than zero\")\n",
    "print(\"This is always printed.\")"
   ]
  },
  {
   "cell_type": "markdown",
   "id": "7a273969",
   "metadata": {},
   "source": [
    "### If else statement"
   ]
  },
  {
   "cell_type": "code",
   "execution_count": 3,
   "id": "43cc6eb6",
   "metadata": {},
   "outputs": [
    {
     "name": "stdout",
     "output_type": "stream",
     "text": [
      "10 is greater than zero.\n"
     ]
    }
   ],
   "source": [
    "n=10\n",
    "if (n>0):\n",
    "    print(n,\"is greater than zero.\")\n",
    "else:\n",
    "    print(n,\"is not greater than zero\")"
   ]
  },
  {
   "cell_type": "markdown",
   "id": "4c9b3b7a",
   "metadata": {},
   "source": [
    "### If elif else statement"
   ]
  },
  {
   "cell_type": "code",
   "execution_count": 4,
   "id": "fd65a952",
   "metadata": {},
   "outputs": [
    {
     "name": "stdout",
     "output_type": "stream",
     "text": [
      "Enter num:10\n",
      "the number is positive \n"
     ]
    }
   ],
   "source": [
    "num=int(input(\"Enter num:\"))\n",
    "if(num>0):\n",
    "    print(\"the number is positive \")\n",
    "elif num==0:\n",
    "    print(\"number is zero\")\n",
    "else:\n",
    "    print(\"number is negative\")"
   ]
  },
  {
   "cell_type": "markdown",
   "id": "2c7ab729",
   "metadata": {},
   "source": [
    "### Nested if"
   ]
  },
  {
   "cell_type": "code",
   "execution_count": 5,
   "id": "9e2d7ec2",
   "metadata": {},
   "outputs": [
    {
     "name": "stdout",
     "output_type": "stream",
     "text": [
      "34 is greater\n"
     ]
    }
   ],
   "source": [
    "n1=1\n",
    "n2=10\n",
    "n3=34\n",
    "if (n1>n2):\n",
    "    print(n1,\"is greater\")\n",
    "else:\n",
    "    if(n3>n2):\n",
    "        print(n3,\"is greater\")\n",
    "    else:\n",
    "        print(n2,\"is greater\")"
   ]
  }
 ],
 "metadata": {
  "kernelspec": {
   "display_name": "Python 3",
   "language": "python",
   "name": "python3"
  },
  "language_info": {
   "codemirror_mode": {
    "name": "ipython",
    "version": 3
   },
   "file_extension": ".py",
   "mimetype": "text/x-python",
   "name": "python",
   "nbconvert_exporter": "python",
   "pygments_lexer": "ipython3",
   "version": "3.8.8"
  }
 },
 "nbformat": 4,
 "nbformat_minor": 5
}
